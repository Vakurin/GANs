{
  "nbformat": 4,
  "nbformat_minor": 0,
  "metadata": {
    "colab": {
      "name": "Second-GAN-DCGAN(Deep-Convolution).ipynb",
      "provenance": [],
      "collapsed_sections": [],
      "authorship_tag": "ABX9TyNI5PHEb6mB2C95GcuTPWBw",
      "include_colab_link": true
    },
    "kernelspec": {
      "name": "python3",
      "display_name": "Python 3"
    },
    "accelerator": "GPU"
  },
  "cells": [
    {
      "cell_type": "markdown",
      "metadata": {
        "id": "view-in-github",
        "colab_type": "text"
      },
      "source": [
        "<a href=\"https://colab.research.google.com/github/Vakurin/GANs-On-TensorFlow-2/blob/master/Second_GAN_DCGAN(Deep_Convolution).ipynb\" target=\"_parent\"><img src=\"https://colab.research.google.com/assets/colab-badge.svg\" alt=\"Open In Colab\"/></a>"
      ]
    },
    {
      "cell_type": "markdown",
      "metadata": {
        "id": "NBpn3rtL-QVq",
        "colab_type": "text"
      },
      "source": [
        "# Pipeline\n",
        "---\n",
        "Main Topics Of This File:\n",
        "* Batch Normalization\n",
        "* Convolitional Layers(Conv2DTransp)"
      ]
    },
    {
      "cell_type": "markdown",
      "metadata": {
        "id": "zHPbYu7x-dsC",
        "colab_type": "text"
      },
      "source": [
        "## Import Libs"
      ]
    },
    {
      "cell_type": "code",
      "metadata": {
        "id": "A9sb8qZKhWIX",
        "colab_type": "code",
        "colab": {}
      },
      "source": [
        "# To generate GIFs\n",
        "!pip install -q imageio"
      ],
      "execution_count": 0,
      "outputs": []
    },
    {
      "cell_type": "code",
      "metadata": {
        "id": "Xd8AUJXRD-Av",
        "colab_type": "code",
        "outputId": "5bd47931-833f-4f79-afe1-10b4cf188e87",
        "colab": {
          "base_uri": "https://localhost:8080/",
          "height": 52
        }
      },
      "source": [
        "# Make default version tf2.0 in colab\n",
        "%tensorflow_version 2.x \n",
        "\n",
        "import tensorflow as tf\n",
        "print(tf.__version__)\n",
        "keras = tf.keras\n",
        "\n",
        "%matplotlib inline\n",
        "import matplotlib.pyplot as plt\n",
        "import numpy as np\n",
        "import time\n",
        "from IPython import display\n",
        "import glob\n",
        "import imageio\n",
        "import PIL\n",
        "\n",
        "tf.config.experimental_run_functions_eagerly(True)"
      ],
      "execution_count": 2,
      "outputs": [
        {
          "output_type": "stream",
          "text": [
            "TensorFlow 2.x selected.\n",
            "2.1.0\n"
          ],
          "name": "stdout"
        }
      ]
    },
    {
      "cell_type": "markdown",
      "metadata": {
        "id": "flCZBZp4sZ17",
        "colab_type": "text"
      },
      "source": [
        "tf.function и AutoGraph работают, генерируя код и копируя его в графы TensorFlow. Этот механизм пока не поддерживает пошаговые отладчики, такие как pdb. Однако вы можете вызвать **`tf.config.run_functions_eagerly(True)`** временно включить eager execution внутри tf.function и использовать ваш любимый отладчик:"
      ]
    },
    {
      "cell_type": "markdown",
      "metadata": {
        "id": "CxGHUxA9_CVA",
        "colab_type": "text"
      },
      "source": [
        "## Build Generator with Conv and Batch\n",
        "* Conv2DTranspose - A transposed convolution essentially has a stride of less than one, such that the output dimensions are larger than the input dimension.\n",
        "* I'll note that if you **use a kernel for conv2d, then use the same kernel for conv2d_transpose, you get the original image back.** You don't have to transpose the kernel.\n"
      ]
    },
    {
      "cell_type": "code",
      "metadata": {
        "id": "nLws-eOJ_ApN",
        "colab_type": "code",
        "colab": {}
      },
      "source": [
        "def model_generator(z_dim=100):\n",
        "  \n",
        "  model = keras.models.Sequential(name='Generator')\n",
        "  \n",
        "  # Take a random noisy vector and reshape it in Tensor \n",
        "  model.add(keras.layers.Dense(256 * 7 * 7, use_bias=False, input_shape=(z_dim, )))\n",
        "  model.add(keras.layers.BatchNormalization())\n",
        "  model.add(keras.layers.LeakyReLU(alpha=0.01))\n",
        "  model.add(keras.layers.Reshape((7, 7, 256)))\n",
        "  assert model.output_shape == (None, 7, 7, 256)\n",
        "  \n",
        "  # 7x7x256 (Conv2D with stride=1) -> 7x7x128\n",
        "  model.add(keras.layers.Conv2DTranspose(128, kernel_size=(5, 5), use_bias=False, strides=1, padding='same', name='First_Conv2DTrans'))\n",
        "  assert model.output_shape == (None, 7, 7, 128)\n",
        "  model.add(keras.layers.BatchNormalization())\n",
        "  model.add(keras.layers.LeakyReLU(alpha=0.01))\n",
        "\n",
        "  # Conv2D With Stride 1 Make a same height and width  14x14x128 -> 14x14x64\n",
        "  model.add(keras.layers.Conv2DTranspose(64, kernel_size=(5, 5), use_bias=False, strides=2, padding='same', name='SecondConv2DTrans'))\n",
        "  model.add(keras.layers.BatchNormalization())\n",
        "  model.add(keras.layers.LeakyReLU(alpha=0.01))\n",
        "  \n",
        "  # 14x14x64 -> 28x28x1\n",
        "  model.add(keras.layers.Conv2DTranspose(1, kernel_size=(5, 5), strides=2, use_bias=False, padding='same', activation='tanh', name='Conv2D'))\n",
        "  assert model.output_shape == (None, 28, 28, 1)\n",
        "  \n",
        "  return model"
      ],
      "execution_count": 0,
      "outputs": []
    },
    {
      "cell_type": "markdown",
      "metadata": {
        "id": "drp85_Gzz8ku",
        "colab_type": "text"
      },
      "source": [
        "### Generated Image On Untrained Model "
      ]
    },
    {
      "cell_type": "code",
      "metadata": {
        "id": "opqYKzS_roYx",
        "colab_type": "code",
        "outputId": "16e514e2-bc24-40d7-f5cf-cf977f9da038",
        "colab": {
          "base_uri": "https://localhost:8080/",
          "height": 265
        }
      },
      "source": [
        "generator = model_generator()\n",
        "\n",
        "noise = tf.random.normal([1, 100])\n",
        "generated_image = generator(noise, training=False)\n",
        "\n",
        "plt.imshow(generated_image[0, :, :, 0], cmap='gray');"
      ],
      "execution_count": 9,
      "outputs": [
        {
          "output_type": "display_data",
          "data": {
            "image/png": "[encoded data removed]",
            "text/plain": [
              "<Figure size 432x288 with 1 Axes>"
            ]
          },
          "metadata": {
            "tags": []
          }
        }
      ]
    },
    {
      "cell_type": "markdown",
      "metadata": {
        "id": "KiqoRwHJ0JXI",
        "colab_type": "text"
      },
      "source": [
        "### Generator Summary"
      ]
    },
    {
      "cell_type": "code",
      "metadata": {
        "id": "9wuAtKNSdRrp",
        "colab_type": "code",
        "colab": {
          "base_uri": "https://localhost:8080/",
          "height": 535
        },
        "outputId": "8268c249-7c3f-47c5-9acd-cc73536140d9"
      },
      "source": [
        "generator.summary()"
      ],
      "execution_count": 10,
      "outputs": [
        {
          "output_type": "stream",
          "text": [
            "Model: \"Generator\"\n",
            "_________________________________________________________________\n",
            "Layer (type)                 Output Shape              Param #   \n",
            "=================================================================\n",
            "dense (Dense)                (None, 12544)             1254400   \n",
            "_________________________________________________________________\n",
            "batch_normalization (BatchNo (None, 12544)             50176     \n",
            "_________________________________________________________________\n",
            "leaky_re_lu (LeakyReLU)      (None, 12544)             0         \n",
            "_________________________________________________________________\n",
            "reshape (Reshape)            (None, 7, 7, 256)         0         \n",
            "_________________________________________________________________\n",
            "First_Conv2DTrans (Conv2DTra (None, 7, 7, 128)         819200    \n",
            "_________________________________________________________________\n",
            "batch_normalization_1 (Batch (None, 7, 7, 128)         512       \n",
            "_________________________________________________________________\n",
            "leaky_re_lu_1 (LeakyReLU)    (None, 7, 7, 128)         0         \n",
            "_________________________________________________________________\n",
            "SecondConv2DTrans (Conv2DTra (None, 14, 14, 64)        204800    \n",
            "_________________________________________________________________\n",
            "batch_normalization_2 (Batch (None, 14, 14, 64)        256       \n",
            "_________________________________________________________________\n",
            "leaky_re_lu_2 (LeakyReLU)    (None, 14, 14, 64)        0         \n",
            "_________________________________________________________________\n",
            "Conv2D (Conv2DTranspose)     (None, 28, 28, 1)         1600      \n",
            "=================================================================\n",
            "Total params: 2,330,944\n",
            "Trainable params: 2,305,472\n",
            "Non-trainable params: 25,472\n",
            "_________________________________________________________________\n"
          ],
          "name": "stdout"
        }
      ]
    },
    {
      "cell_type": "markdown",
      "metadata": {
        "id": "KSClQ5iQ2H5Q",
        "colab_type": "text"
      },
      "source": [
        "## Build Disriminator\n",
        "* If we don't using `padding='same' and stride=2` we got 28x28 -> 12x12\n",
        "\n",
        "* **Model:**\n",
        "28x28x1 -> 14x14x32 -> 7x7x64 -> 4x4x128 -> 2048 -> 1(prediction)"
      ]
    },
    {
      "cell_type": "code",
      "metadata": {
        "id": "YpMk-QE_2MR_",
        "colab_type": "code",
        "colab": {}
      },
      "source": [
        "def model_discriminator(input_shape=(28, 28, 1)):\n",
        "  model = keras.Sequential(name='Discriminator')\n",
        "  \n",
        "  model.add(keras.layers.Conv2D(64, \n",
        "                                kernel_size=5, \n",
        "                                strides=2,\n",
        "                                padding='same',\n",
        "                                input_shape=input_shape))\n",
        "  model.add(keras.layers.LeakyReLU(alpha=0.01))\n",
        "  model.add(keras.layers.Dropout(0.3))\n",
        "\n",
        "  model.add(keras.layers.Conv2D(128, \n",
        "                                kernel_size=5,\n",
        "                                strides=2,\n",
        "                                padding='same'))\n",
        "  model.add(keras.layers.LeakyReLU(alpha=0.01))\n",
        "  model.add(keras.layers.Dropout(0.3))\n",
        "\n",
        "  model.add(keras.layers.Flatten())\n",
        "  # Prediction Layer Fake or Not\n",
        "  # Without activation layer\n",
        "  model.add(keras.layers.Dense(1, name='Discriminator_Output'))\n",
        "\n",
        "  return model"
      ],
      "execution_count": 0,
      "outputs": []
    },
    {
      "cell_type": "markdown",
      "metadata": {
        "id": "UjLjSo0C0wmI",
        "colab_type": "text"
      },
      "source": [
        "### Use Untrained Model\n",
        "The model will be trained to output positive values for real images, and negative values for fake images. "
      ]
    },
    {
      "cell_type": "code",
      "metadata": {
        "id": "dRKuQc4oUliF",
        "colab_type": "code",
        "colab": {
          "base_uri": "https://localhost:8080/",
          "height": 35
        },
        "outputId": "1b57e47a-5f21-417f-ac54-5cb0dab5f7a0"
      },
      "source": [
        "discriminator = model_discriminator()\n",
        "decision = discriminator(generated_image)\n",
        "print (decision)"
      ],
      "execution_count": 12,
      "outputs": [
        {
          "output_type": "stream",
          "text": [
            "tf.Tensor([[-0.0049836]], shape=(1, 1), dtype=float32)\n"
          ],
          "name": "stdout"
        }
      ]
    },
    {
      "cell_type": "markdown",
      "metadata": {
        "id": "LkVaH7Tt0nFm",
        "colab_type": "text"
      },
      "source": [
        "### Discriminator Summary"
      ]
    },
    {
      "cell_type": "code",
      "metadata": {
        "id": "4hKG0Xfb4O7Y",
        "colab_type": "code",
        "outputId": "01774ede-d724-4ffa-9880-a047e8562efc",
        "colab": {
          "base_uri": "https://localhost:8080/",
          "height": 432
        }
      },
      "source": [
        "model_discriminator().summary()"
      ],
      "execution_count": 13,
      "outputs": [
        {
          "output_type": "stream",
          "text": [
            "Model: \"Discriminator\"\n",
            "_________________________________________________________________\n",
            "Layer (type)                 Output Shape              Param #   \n",
            "=================================================================\n",
            "conv2d_2 (Conv2D)            (None, 14, 14, 64)        1664      \n",
            "_________________________________________________________________\n",
            "leaky_re_lu_5 (LeakyReLU)    (None, 14, 14, 64)        0         \n",
            "_________________________________________________________________\n",
            "dropout_2 (Dropout)          (None, 14, 14, 64)        0         \n",
            "_________________________________________________________________\n",
            "conv2d_3 (Conv2D)            (None, 7, 7, 128)         204928    \n",
            "_________________________________________________________________\n",
            "leaky_re_lu_6 (LeakyReLU)    (None, 7, 7, 128)         0         \n",
            "_________________________________________________________________\n",
            "dropout_3 (Dropout)          (None, 7, 7, 128)         0         \n",
            "_________________________________________________________________\n",
            "flatten_1 (Flatten)          (None, 6272)              0         \n",
            "_________________________________________________________________\n",
            "Discriminator_Output (Dense) (None, 1)                 6273      \n",
            "=================================================================\n",
            "Total params: 212,865\n",
            "Trainable params: 212,865\n",
            "Non-trainable params: 0\n",
            "_________________________________________________________________\n"
          ],
          "name": "stdout"
        }
      ]
    },
    {
      "cell_type": "markdown",
      "metadata": {
        "id": "__AGE8WzcxFd",
        "colab_type": "text"
      },
      "source": [
        "## Define the loss and optimizer\n",
        "Define loss functions and optimizers for both models.\n",
        "\n",
        "* **Cross Entropy** Function Can Get Two Arguments `y_true, y_pred` "
      ]
    },
    {
      "cell_type": "code",
      "metadata": {
        "id": "BEryJxP0c4cd",
        "colab_type": "code",
        "colab": {}
      },
      "source": [
        "# This method returns a helper function to compute cross entropy loss\n",
        "cross_entropy = keras.losses.BinaryCrossentropy(from_logits=True)"
      ],
      "execution_count": 0,
      "outputs": []
    },
    {
      "cell_type": "markdown",
      "metadata": {
        "id": "rrGY1AKu124s",
        "colab_type": "text"
      },
      "source": [
        "### D Loss\n",
        "This method quantifies how well the discriminator is able to distinguish real images from fakes. It compares the discriminator's predictions on real images to an array of 1s, and the discriminator's predictions on fake (generated) images to an array of 0s."
      ]
    },
    {
      "cell_type": "code",
      "metadata": {
        "id": "x8GkEbUqc6ih",
        "colab_type": "code",
        "colab": {}
      },
      "source": [
        "def discriminator_loss(real_output, fake_output):\n",
        "    real_loss = cross_entropy(tf.ones_like(real_output), real_output)\n",
        "    fake_loss = cross_entropy(tf.zeros_like(fake_output), fake_output)\n",
        "    total_loss = real_loss + fake_loss\n",
        "    return total_loss"
      ],
      "execution_count": 0,
      "outputs": []
    },
    {
      "cell_type": "markdown",
      "metadata": {
        "id": "liZZbm8-lpcY",
        "colab_type": "text"
      },
      "source": [
        "### G Loss\n",
        "The generator's loss quantifies how well it was able to trick the discriminator. Intuitively, if the generator is performing well, the discriminator will classify the fake images as real (or 1). Here, we will compare the discriminators decisions on the generated images to an array of 1s."
      ]
    },
    {
      "cell_type": "code",
      "metadata": {
        "id": "X6EEwx6_dDSS",
        "colab_type": "code",
        "colab": {}
      },
      "source": [
        "def generator_loss(fake_output):\n",
        "    return cross_entropy(tf.ones_like(fake_output), fake_output)"
      ],
      "execution_count": 0,
      "outputs": []
    },
    {
      "cell_type": "code",
      "metadata": {
        "id": "ArCh4FiedKdB",
        "colab_type": "code",
        "colab": {}
      },
      "source": [
        "generator_optimizer = keras.optimizers.Adam(1e-4)\n",
        "discriminator_optimizer = keras.optimizers.Adam(1e-4)"
      ],
      "execution_count": 0,
      "outputs": []
    },
    {
      "cell_type": "markdown",
      "metadata": {
        "id": "bflu7t5hnt2s",
        "colab_type": "text"
      },
      "source": [
        "## Save Checkpoint"
      ]
    },
    {
      "cell_type": "code",
      "metadata": {
        "id": "kzE3JiVjdSHr",
        "colab_type": "code",
        "colab": {}
      },
      "source": [
        "import os\n",
        "checkpoint_dir = './training_checkpoints'\n",
        "checkpoint_prefix = os.path.join(checkpoint_dir, \"ckpt\")\n",
        "checkpoint = tf.train.Checkpoint(generator_optimizer=generator_optimizer,\n",
        "                                 discriminator_optimizer=discriminator_optimizer,\n",
        "                                 generator=generator,\n",
        "                                 discriminator=discriminator)"
      ],
      "execution_count": 0,
      "outputs": []
    },
    {
      "cell_type": "markdown",
      "metadata": {
        "id": "CQkcx9lqoZOW",
        "colab_type": "text"
      },
      "source": [
        "## Define Training Loop"
      ]
    },
    {
      "cell_type": "code",
      "metadata": {
        "id": "r-HEa78GeS_N",
        "colab_type": "code",
        "colab": {}
      },
      "source": [
        "EPOCHS = 50\n",
        "noise_dim = 100\n",
        "num_examples_to_generate = 16\n",
        "\n",
        "# We will reuse this seed overtime (so it's easier)\n",
        "# to visualize progress in the animated GIF)\n",
        "seed = tf.random.normal([num_examples_to_generate, noise_dim])"
      ],
      "execution_count": 0,
      "outputs": []
    },
    {
      "cell_type": "markdown",
      "metadata": {
        "id": "_TggL6eexp56",
        "colab_type": "text"
      },
      "source": [
        "## Gradient Tape \n",
        "If at any point, we want to use multiple variables in our calculations, all we need to do is give tape.gradient a list or tuple of those variables. When we optimize Keras models, we pass model.trainable_variables as our variable list.\n",
        "\n",
        "If you want easier access to the gradients and loss as well as a clearer understanding of the training it might be worth to use tf.GradientTape instead of the fit method.\n",
        "\n",
        "Using GradientTape, one can manually define each training step in the training procedure. The basic steps include:\n",
        "\n",
        "* Forward pass\n",
        "* Calculating loss\n",
        "* Backward pass\n",
        "* Updating the gradients\n",
        "\n",
        "**For image classification GradientTape could be used like in the following example:**\n",
        "\n",
        "```\n",
        "@tf.function\n",
        "def train_step(images, labels):\n",
        "  with tf.GradientTape() as tape:\n",
        "    predictions = model(images)\n",
        "    loss = loss_object(labels, predictions)\n",
        "  gradients = tape.gradient(loss, model.trainable_variables)\n",
        "  optimizer.apply_gradients(zip(gradients, model.trainable_variables))\n",
        "\n",
        "  train_loss(loss)\n",
        "  train_accuracy(labels, predictions)\n",
        "```\n",
        "\n",
        "Article About Gradient Tape:\n",
        "https://medium.com/analytics-vidhya/tf-gradienttape-explained-for-keras-users-cc3f06276f22"
      ]
    },
    {
      "cell_type": "code",
      "metadata": {
        "id": "UVUufJQ3xvL3",
        "colab_type": "code",
        "colab": {
          "base_uri": "https://localhost:8080/",
          "height": 52
        },
        "outputId": "9a863dc9-448e-408c-b280-21fb965502a2"
      },
      "source": [
        "a = tf.Variable(6.0, trainable=True)\n",
        "\n",
        "with tf.GradientTape(persistent=True) as tape:\n",
        "    y1 = a ** 3 #(a ** 2) * 3\n",
        "    y2 = a ** 2 #(a ** 1) * 2\n",
        "# Тут считаем дифференцирование                                                                                                                                                                                                                                                                                                                                                 \n",
        "print(tape.gradient(y1, a).numpy())\n",
        "print(tape.gradient(y2, a).numpy())"
      ],
      "execution_count": 6,
      "outputs": [
        {
          "output_type": "stream",
          "text": [
            "108.0\n",
            "12.0\n"
          ],
          "name": "stdout"
        }
      ]
    },
    {
      "cell_type": "markdown",
      "metadata": {
        "id": "TivpbQ7lqmEl",
        "colab_type": "text"
      },
      "source": [
        "* `@tf.function` будет скомпилирована в граф, что означает, что вы получаете преимущества более быстрого выполнения, запуска на GPU или TPU\n",
        "\n",
        "* `GradientTape` автоматическое компилирование диффиренцалов\n",
        "\n",
        "* `tf.gradient` - **arguments** \n",
        "`target:` a list or nested structure of Tensors or Variables to be differentiated.\n",
        "`sources:` a list or nested structure of Tensors or Variables. target will be differentiated against elements in sources.)\n",
        "\n",
        "The training loop begins with generator receiving a random seed as input. That seed is used to produce an image. The discriminator is then used to classify real images (drawn from the training set) and fakes images (produced by the generator). The loss is calculated for each of these models, and the gradients are used to update the generator and discriminator.\n",
        "\n"
      ]
    },
    {
      "cell_type": "code",
      "metadata": {
        "id": "tzO05Gnxd0ag",
        "colab_type": "code",
        "colab": {}
      },
      "source": [
        "# Notice the use of `tf.function`\n",
        "# This annotation causes the function to be \"compiled\".\n",
        "\n",
        "@tf.function\n",
        "def train_step(images):\n",
        "    noise = tf.random.normal([256, noise_dim])\n",
        "\n",
        "    with tf.GradientTape() as gen_tape, tf.GradientTape() as disc_tape:\n",
        "      generated_images = generator(noise, training=True)\n",
        "\n",
        "      real_output = discriminator(images, training=True)\n",
        "      fake_output = discriminator(generated_images, training=True)\n",
        "\n",
        "      gen_loss = generator_loss(fake_output)\n",
        "      disc_loss = discriminator_loss(real_output, fake_output)\n",
        "    \n",
        "    gradients_of_generator = gen_tape.gradient(gen_loss, generator.trainable_variables)\n",
        "    gradients_of_discriminator = disc_tape.gradient(disc_loss, discriminator.trainable_variables)\n",
        "\n",
        "    generator_optimizer.apply_gradients(zip(gradients_of_generator, generator.trainable_variables))\n",
        "    discriminator_optimizer.apply_gradients(zip(gradients_of_discriminator, discriminator.trainable_variables))"
      ],
      "execution_count": 0,
      "outputs": []
    },
    {
      "cell_type": "code",
      "metadata": {
        "id": "XjgmjmA4eNNi",
        "colab_type": "code",
        "colab": {}
      },
      "source": [
        "def train(dataset, epochs):\n",
        "  for epoch in range(epochs):\n",
        "    start = time.time()\n",
        "\n",
        "    for image_batch in dataset:\n",
        "      train_step(image_batch)\n",
        "\n",
        "    # Produce images for the GIF as we go\n",
        "    display.clear_output(wait=True)\n",
        "    generate_and_save_images(generator,\n",
        "                             epoch + 1,\n",
        "                             seed)\n",
        "\n",
        "    # Save the model every 15 epochs\n",
        "    if (epoch + 1) % 15 == 0:\n",
        "      checkpoint.save(file_prefix = checkpoint_prefix)\n",
        "\n",
        "    print ('Time for epoch {} is {} sec'.format(epoch + 1, time.time()-start))\n",
        "\n",
        "  # Generate after the final epoch\n",
        "  display.clear_output(wait=True)\n",
        "  generate_and_save_images(generator,\n",
        "                           epochs,\n",
        "                           seed)"
      ],
      "execution_count": 0,
      "outputs": []
    },
    {
      "cell_type": "code",
      "metadata": {
        "id": "-uDV0TjfeOoD",
        "colab_type": "code",
        "colab": {}
      },
      "source": [
        "def generate_and_save_images(model, epoch, test_input):\n",
        "  # Notice `training` is set to False.\n",
        "  # This is so all layers run in inference mode (batchnorm).\n",
        "  predictions = model(test_input, training=False)\n",
        "\n",
        "  fig = plt.figure(figsize=(4,4))\n",
        "\n",
        "  for i in range(predictions.shape[0]):\n",
        "      plt.subplot(4, 4, i+1)\n",
        "      plt.imshow(predictions[i, :, :, 0] * 127.5 + 127.5, cmap='gray')\n",
        "      plt.axis('off')\n",
        "\n",
        "  plt.savefig('image_at_epoch_{:04d}.png'.format(epoch))\n",
        "  plt.show()"
      ],
      "execution_count": 0,
      "outputs": []
    },
    {
      "cell_type": "markdown",
      "metadata": {
        "id": "IzY3y-w3xPSG",
        "colab_type": "text"
      },
      "source": [
        "## Load Train Data And Preproccesing\n",
        "* `tf.data.Dataset.from_tensor_slices` - split data on single arrays, after that shuffle  "
      ]
    },
    {
      "cell_type": "code",
      "metadata": {
        "id": "TW8INGKRezkm",
        "colab_type": "code",
        "colab": {}
      },
      "source": [
        "(train_images, train_labels), (_, _) = keras.datasets.mnist.load_data()\n",
        "\n",
        "train_images = train_images.reshape(train_images.shape[0], 28, 28, 1).astype('float32')\n",
        "train_images = (train_images - 127.5) / 127.5 # Normalize the images to [-1, 1]\n",
        "\n",
        "# Number of images\n",
        "BUFFER_SIZE = 60000\n",
        "BATCH_SIZE = 256\n",
        "\n",
        "# Batch and shuffle the data \n",
        "train_dataset = tf.data.Dataset.from_tensor_slices(train_images).shuffle(BUFFER_SIZE).batch(BATCH_SIZE)"
      ],
      "execution_count": 0,
      "outputs": []
    },
    {
      "cell_type": "markdown",
      "metadata": {
        "id": "7A8xuo9mxchJ",
        "colab_type": "text"
      },
      "source": [
        "## Training"
      ]
    },
    {
      "cell_type": "code",
      "metadata": {
        "id": "icda3PdseesL",
        "colab_type": "code",
        "outputId": "f099afd8-1edf-4bcd-a9a5-d913271aa290",
        "colab": {
          "base_uri": "https://localhost:8080/",
          "height": 1000
        }
      },
      "source": [
        "train(train_dataset, EPOCHS)"
      ],
      "execution_count": 31,
      "outputs": [
        {
          "output_type": "display_data",
          "data": {
            "image/png": "[encoded data removed]",
            "text/plain": [
              "<Figure size 288x288 with 16 Axes>"
            ]
          },
          "metadata": {
            "tags": []
          }
        },
        {
          "output_type": "stream",
          "text": [
            "Time for epoch 1 is 17.528711795806885 sec\n",
            "G Loss: tf.Tensor(0.7516539, shape=(), dtype=float32)\n",
            "D Loss: tf.Tensor(1.2672596, shape=(), dtype=float32)\n",
            "G Loss: tf.Tensor(0.75615, shape=(), dtype=float32)\n",
            "D Loss: tf.Tensor(1.2415392, shape=(), dtype=float32)\n",
            "G Loss: tf.Tensor(0.7690507, shape=(), dtype=float32)\n",
            "D Loss: tf.Tensor(1.1750605, shape=(), dtype=float32)\n",
            "G Loss: tf.Tensor(0.7778958, shape=(), dtype=float32)\n",
            "D Loss: tf.Tensor(1.1393027, shape=(), dtype=float32)\n",
            "G Loss: tf.Tensor(0.778775, shape=(), dtype=float32)\n",
            "D Loss: tf.Tensor(1.1342254, shape=(), dtype=float32)\n",
            "G Loss: tf.Tensor(0.8142409, shape=(), dtype=float32)\n",
            "D Loss: tf.Tensor(1.023952, shape=(), dtype=float32)\n",
            "G Loss: tf.Tensor(0.8313675, shape=(), dtype=float32)\n",
            "D Loss: tf.Tensor(1.0033886, shape=(), dtype=float32)\n",
            "G Loss: tf.Tensor(0.866339, shape=(), dtype=float32)\n",
            "D Loss: tf.Tensor(0.953012, shape=(), dtype=float32)\n",
            "G Loss: tf.Tensor(0.9216063, shape=(), dtype=float32)\n",
            "D Loss: tf.Tensor(0.92087805, shape=(), dtype=float32)\n",
            "G Loss: tf.Tensor(0.9587544, shape=(), dtype=float32)\n",
            "D Loss: tf.Tensor(0.8900196, shape=(), dtype=float32)\n",
            "G Loss: tf.Tensor(0.9694167, shape=(), dtype=float32)\n",
            "D Loss: tf.Tensor(0.84636694, shape=(), dtype=float32)\n",
            "G Loss: tf.Tensor(0.9953669, shape=(), dtype=float32)\n",
            "D Loss: tf.Tensor(0.83651567, shape=(), dtype=float32)\n",
            "G Loss: tf.Tensor(0.99476194, shape=(), dtype=float32)\n",
            "D Loss: tf.Tensor(0.8063148, shape=(), dtype=float32)\n",
            "G Loss: tf.Tensor(1.0037868, shape=(), dtype=float32)\n",
            "D Loss: tf.Tensor(0.8133379, shape=(), dtype=float32)\n",
            "G Loss: tf.Tensor(0.9879117, shape=(), dtype=float32)\n",
            "D Loss: tf.Tensor(0.8480464, shape=(), dtype=float32)\n",
            "G Loss: tf.Tensor(1.0244353, shape=(), dtype=float32)\n",
            "D Loss: tf.Tensor(0.8101596, shape=(), dtype=float32)\n",
            "G Loss: tf.Tensor(1.0528983, shape=(), dtype=float32)\n",
            "D Loss: tf.Tensor(0.77445245, shape=(), dtype=float32)\n",
            "G Loss: tf.Tensor(1.0644608, shape=(), dtype=float32)\n",
            "D Loss: tf.Tensor(0.7869655, shape=(), dtype=float32)\n",
            "G Loss: tf.Tensor(1.1245764, shape=(), dtype=float32)\n",
            "D Loss: tf.Tensor(0.7344681, shape=(), dtype=float32)\n",
            "G Loss: tf.Tensor(1.190622, shape=(), dtype=float32)\n",
            "D Loss: tf.Tensor(0.7426623, shape=(), dtype=float32)\n",
            "G Loss: tf.Tensor(1.2391076, shape=(), dtype=float32)\n",
            "D Loss: tf.Tensor(0.679862, shape=(), dtype=float32)\n",
            "G Loss: tf.Tensor(1.3218017, shape=(), dtype=float32)\n",
            "D Loss: tf.Tensor(0.69160044, shape=(), dtype=float32)\n",
            "G Loss: tf.Tensor(1.3730053, shape=(), dtype=float32)\n",
            "D Loss: tf.Tensor(0.637788, shape=(), dtype=float32)\n",
            "G Loss: tf.Tensor(1.4263339, shape=(), dtype=float32)\n",
            "D Loss: tf.Tensor(0.6078079, shape=(), dtype=float32)\n",
            "G Loss: tf.Tensor(1.4428437, shape=(), dtype=float32)\n",
            "D Loss: tf.Tensor(0.60205644, shape=(), dtype=float32)\n",
            "G Loss: tf.Tensor(1.4846604, shape=(), dtype=float32)\n",
            "D Loss: tf.Tensor(0.55788237, shape=(), dtype=float32)\n",
            "G Loss: tf.Tensor(1.4756951, shape=(), dtype=float32)\n",
            "D Loss: tf.Tensor(0.55885106, shape=(), dtype=float32)\n",
            "G Loss: tf.Tensor(1.4631257, shape=(), dtype=float32)\n",
            "D Loss: tf.Tensor(0.5482337, shape=(), dtype=float32)\n",
            "G Loss: tf.Tensor(1.4731491, shape=(), dtype=float32)\n",
            "D Loss: tf.Tensor(0.52501404, shape=(), dtype=float32)\n",
            "G Loss: tf.Tensor(1.4688427, shape=(), dtype=float32)\n",
            "D Loss: tf.Tensor(0.5477922, shape=(), dtype=float32)\n",
            "G Loss: tf.Tensor(1.4599954, shape=(), dtype=float32)\n",
            "D Loss: tf.Tensor(0.5098547, shape=(), dtype=float32)\n",
            "G Loss: tf.Tensor(1.4277596, shape=(), dtype=float32)\n",
            "D Loss: tf.Tensor(0.52257156, shape=(), dtype=float32)\n",
            "G Loss: tf.Tensor(1.40264, shape=(), dtype=float32)\n",
            "D Loss: tf.Tensor(0.57001203, shape=(), dtype=float32)\n",
            "G Loss: tf.Tensor(1.3888937, shape=(), dtype=float32)\n",
            "D Loss: tf.Tensor(0.5418313, shape=(), dtype=float32)\n",
            "G Loss: tf.Tensor(1.3747922, shape=(), dtype=float32)\n",
            "D Loss: tf.Tensor(0.54412013, shape=(), dtype=float32)\n",
            "G Loss: tf.Tensor(1.3507164, shape=(), dtype=float32)\n",
            "D Loss: tf.Tensor(0.6282922, shape=(), dtype=float32)\n",
            "G Loss: tf.Tensor(1.340126, shape=(), dtype=float32)\n",
            "D Loss: tf.Tensor(0.5914907, shape=(), dtype=float32)\n",
            "G Loss: tf.Tensor(1.3505869, shape=(), dtype=float32)\n",
            "D Loss: tf.Tensor(0.61864376, shape=(), dtype=float32)\n",
            "G Loss: tf.Tensor(1.3441821, shape=(), dtype=float32)\n",
            "D Loss: tf.Tensor(0.6435807, shape=(), dtype=float32)\n",
            "G Loss: tf.Tensor(1.328551, shape=(), dtype=float32)\n",
            "D Loss: tf.Tensor(0.6894202, shape=(), dtype=float32)\n",
            "G Loss: tf.Tensor(1.2855713, shape=(), dtype=float32)\n",
            "D Loss: tf.Tensor(0.7087878, shape=(), dtype=float32)\n",
            "G Loss: tf.Tensor(1.2162709, shape=(), dtype=float32)\n",
            "D Loss: tf.Tensor(0.7564907, shape=(), dtype=float32)\n",
            "G Loss: tf.Tensor(1.1622899, shape=(), dtype=float32)\n",
            "D Loss: tf.Tensor(0.7810414, shape=(), dtype=float32)\n",
            "G Loss: tf.Tensor(1.1040628, shape=(), dtype=float32)\n",
            "D Loss: tf.Tensor(0.8423896, shape=(), dtype=float32)\n",
            "G Loss: tf.Tensor(1.0499525, shape=(), dtype=float32)\n",
            "D Loss: tf.Tensor(0.88390285, shape=(), dtype=float32)\n",
            "G Loss: tf.Tensor(1.0066919, shape=(), dtype=float32)\n",
            "D Loss: tf.Tensor(0.9624362, shape=(), dtype=float32)\n",
            "G Loss: tf.Tensor(1.0007322, shape=(), dtype=float32)\n",
            "D Loss: tf.Tensor(0.9969534, shape=(), dtype=float32)\n",
            "G Loss: tf.Tensor(0.968963, shape=(), dtype=float32)\n",
            "D Loss: tf.Tensor(0.9861802, shape=(), dtype=float32)\n",
            "G Loss: tf.Tensor(0.9636812, shape=(), dtype=float32)\n",
            "D Loss: tf.Tensor(1.054142, shape=(), dtype=float32)\n",
            "G Loss: tf.Tensor(0.9430812, shape=(), dtype=float32)\n",
            "D Loss: tf.Tensor(1.0890992, shape=(), dtype=float32)\n",
            "G Loss: tf.Tensor(0.9482343, shape=(), dtype=float32)\n",
            "D Loss: tf.Tensor(1.0609875, shape=(), dtype=float32)\n",
            "G Loss: tf.Tensor(0.93323296, shape=(), dtype=float32)\n",
            "D Loss: tf.Tensor(1.1297003, shape=(), dtype=float32)\n",
            "G Loss: tf.Tensor(0.94828004, shape=(), dtype=float32)\n",
            "D Loss: tf.Tensor(1.1555219, shape=(), dtype=float32)\n",
            "G Loss: tf.Tensor(0.9167347, shape=(), dtype=float32)\n",
            "D Loss: tf.Tensor(1.1125774, shape=(), dtype=float32)\n",
            "G Loss: tf.Tensor(0.915187, shape=(), dtype=float32)\n",
            "D Loss: tf.Tensor(1.1524836, shape=(), dtype=float32)\n",
            "G Loss: tf.Tensor(0.91731834, shape=(), dtype=float32)\n",
            "D Loss: tf.Tensor(1.16629, shape=(), dtype=float32)\n",
            "G Loss: tf.Tensor(0.8908125, shape=(), dtype=float32)\n",
            "D Loss: tf.Tensor(1.1464448, shape=(), dtype=float32)\n",
            "G Loss: tf.Tensor(0.9349055, shape=(), dtype=float32)\n",
            "D Loss: tf.Tensor(1.0705147, shape=(), dtype=float32)\n",
            "G Loss: tf.Tensor(0.9729941, shape=(), dtype=float32)\n",
            "D Loss: tf.Tensor(1.1002036, shape=(), dtype=float32)\n",
            "G Loss: tf.Tensor(1.004999, shape=(), dtype=float32)\n",
            "D Loss: tf.Tensor(1.0266882, shape=(), dtype=float32)\n",
            "G Loss: tf.Tensor(1.0804235, shape=(), dtype=float32)\n",
            "D Loss: tf.Tensor(1.0487682, shape=(), dtype=float32)\n",
            "G Loss: tf.Tensor(1.1090958, shape=(), dtype=float32)\n",
            "D Loss: tf.Tensor(0.9776921, shape=(), dtype=float32)\n",
            "G Loss: tf.Tensor(1.123746, shape=(), dtype=float32)\n",
            "D Loss: tf.Tensor(0.92320067, shape=(), dtype=float32)\n",
            "G Loss: tf.Tensor(1.1628369, shape=(), dtype=float32)\n",
            "D Loss: tf.Tensor(0.84918845, shape=(), dtype=float32)\n",
            "G Loss: tf.Tensor(1.1999221, shape=(), dtype=float32)\n",
            "D Loss: tf.Tensor(0.7938678, shape=(), dtype=float32)\n",
            "G Loss: tf.Tensor(1.27583, shape=(), dtype=float32)\n",
            "D Loss: tf.Tensor(0.7416434, shape=(), dtype=float32)\n",
            "G Loss: tf.Tensor(1.3626525, shape=(), dtype=float32)\n",
            "D Loss: tf.Tensor(0.6817161, shape=(), dtype=float32)\n",
            "G Loss: tf.Tensor(1.4325395, shape=(), dtype=float32)\n",
            "D Loss: tf.Tensor(0.65553784, shape=(), dtype=float32)\n",
            "G Loss: tf.Tensor(1.4758195, shape=(), dtype=float32)\n",
            "D Loss: tf.Tensor(0.6139269, shape=(), dtype=float32)\n",
            "G Loss: tf.Tensor(1.5433208, shape=(), dtype=float32)\n",
            "D Loss: tf.Tensor(0.544661, shape=(), dtype=float32)\n",
            "G Loss: tf.Tensor(1.6038406, shape=(), dtype=float32)\n",
            "D Loss: tf.Tensor(0.5081875, shape=(), dtype=float32)\n",
            "G Loss: tf.Tensor(1.6525631, shape=(), dtype=float32)\n",
            "D Loss: tf.Tensor(0.4646961, shape=(), dtype=float32)\n",
            "G Loss: tf.Tensor(1.6932414, shape=(), dtype=float32)\n",
            "D Loss: tf.Tensor(0.43562275, shape=(), dtype=float32)\n",
            "G Loss: tf.Tensor(1.7460926, shape=(), dtype=float32)\n",
            "D Loss: tf.Tensor(0.4201857, shape=(), dtype=float32)\n",
            "G Loss: tf.Tensor(1.8100493, shape=(), dtype=float32)\n",
            "D Loss: tf.Tensor(0.39518446, shape=(), dtype=float32)\n",
            "G Loss: tf.Tensor(1.883293, shape=(), dtype=float32)\n",
            "D Loss: tf.Tensor(0.34688035, shape=(), dtype=float32)\n",
            "G Loss: tf.Tensor(1.9465592, shape=(), dtype=float32)\n",
            "D Loss: tf.Tensor(0.3266778, shape=(), dtype=float32)\n",
            "G Loss: tf.Tensor(2.0077746, shape=(), dtype=float32)\n",
            "D Loss: tf.Tensor(0.31536818, shape=(), dtype=float32)\n",
            "G Loss: tf.Tensor(2.078062, shape=(), dtype=float32)\n",
            "D Loss: tf.Tensor(0.29802296, shape=(), dtype=float32)\n",
            "G Loss: tf.Tensor(2.1076865, shape=(), dtype=float32)\n",
            "D Loss: tf.Tensor(0.28569263, shape=(), dtype=float32)\n",
            "G Loss: tf.Tensor(2.1849797, shape=(), dtype=float32)\n",
            "D Loss: tf.Tensor(0.24836566, shape=(), dtype=float32)\n",
            "G Loss: tf.Tensor(2.213079, shape=(), dtype=float32)\n",
            "D Loss: tf.Tensor(0.24348652, shape=(), dtype=float32)\n",
            "G Loss: tf.Tensor(2.2487981, shape=(), dtype=float32)\n",
            "D Loss: tf.Tensor(0.2367953, shape=(), dtype=float32)\n",
            "G Loss: tf.Tensor(2.298757, shape=(), dtype=float32)\n",
            "D Loss: tf.Tensor(0.2312749, shape=(), dtype=float32)\n",
            "G Loss: tf.Tensor(2.3383422, shape=(), dtype=float32)\n",
            "D Loss: tf.Tensor(0.23234761, shape=(), dtype=float32)\n",
            "G Loss: tf.Tensor(2.384706, shape=(), dtype=float32)\n",
            "D Loss: tf.Tensor(0.19113836, shape=(), dtype=float32)\n",
            "G Loss: tf.Tensor(2.4220648, shape=(), dtype=float32)\n",
            "D Loss: tf.Tensor(0.18768573, shape=(), dtype=float32)\n",
            "G Loss: tf.Tensor(2.447085, shape=(), dtype=float32)\n",
            "D Loss: tf.Tensor(0.18236732, shape=(), dtype=float32)\n",
            "G Loss: tf.Tensor(2.4741282, shape=(), dtype=float32)\n",
            "D Loss: tf.Tensor(0.20196566, shape=(), dtype=float32)\n",
            "G Loss: tf.Tensor(2.5361476, shape=(), dtype=float32)\n",
            "D Loss: tf.Tensor(0.16937831, shape=(), dtype=float32)\n",
            "G Loss: tf.Tensor(2.5768404, shape=(), dtype=float32)\n",
            "D Loss: tf.Tensor(0.159006, shape=(), dtype=float32)\n",
            "G Loss: tf.Tensor(2.6356826, shape=(), dtype=float32)\n",
            "D Loss: tf.Tensor(0.16364169, shape=(), dtype=float32)\n",
            "G Loss: tf.Tensor(2.6678333, shape=(), dtype=float32)\n",
            "D Loss: tf.Tensor(0.14381163, shape=(), dtype=float32)\n",
            "G Loss: tf.Tensor(2.6770182, shape=(), dtype=float32)\n",
            "D Loss: tf.Tensor(0.14699063, shape=(), dtype=float32)\n",
            "G Loss: tf.Tensor(2.7220392, shape=(), dtype=float32)\n",
            "D Loss: tf.Tensor(0.1513203, shape=(), dtype=float32)\n",
            "G Loss: tf.Tensor(2.766626, shape=(), dtype=float32)\n",
            "D Loss: tf.Tensor(0.1348925, shape=(), dtype=float32)\n",
            "G Loss: tf.Tensor(2.7595296, shape=(), dtype=float32)\n",
            "D Loss: tf.Tensor(0.14676248, shape=(), dtype=float32)\n",
            "G Loss: tf.Tensor(2.7962146, shape=(), dtype=float32)\n",
            "D Loss: tf.Tensor(0.13926885, shape=(), dtype=float32)\n",
            "G Loss: tf.Tensor(2.813094, shape=(), dtype=float32)\n",
            "D Loss: tf.Tensor(0.12157625, shape=(), dtype=float32)\n",
            "G Loss: tf.Tensor(2.83359, shape=(), dtype=float32)\n",
            "D Loss: tf.Tensor(0.12574169, shape=(), dtype=float32)\n",
            "G Loss: tf.Tensor(2.8426208, shape=(), dtype=float32)\n",
            "D Loss: tf.Tensor(0.11929422, shape=(), dtype=float32)\n",
            "G Loss: tf.Tensor(2.890928, shape=(), dtype=float32)\n",
            "D Loss: tf.Tensor(0.12377888, shape=(), dtype=float32)\n",
            "G Loss: tf.Tensor(2.9137425, shape=(), dtype=float32)\n",
            "D Loss: tf.Tensor(0.110719964, shape=(), dtype=float32)\n",
            "G Loss: tf.Tensor(2.96692, shape=(), dtype=float32)\n",
            "D Loss: tf.Tensor(0.099379785, shape=(), dtype=float32)\n",
            "G Loss: tf.Tensor(2.9747963, shape=(), dtype=float32)\n",
            "D Loss: tf.Tensor(0.10642514, shape=(), dtype=float32)\n",
            "G Loss: tf.Tensor(3.0535872, shape=(), dtype=float32)\n",
            "D Loss: tf.Tensor(0.106645614, shape=(), dtype=float32)\n",
            "G Loss: tf.Tensor(3.0575814, shape=(), dtype=float32)\n",
            "D Loss: tf.Tensor(0.10651097, shape=(), dtype=float32)\n",
            "G Loss: tf.Tensor(3.0362072, shape=(), dtype=float32)\n",
            "D Loss: tf.Tensor(0.103668764, shape=(), dtype=float32)\n",
            "G Loss: tf.Tensor(3.0496445, shape=(), dtype=float32)\n",
            "D Loss: tf.Tensor(0.095679626, shape=(), dtype=float32)\n",
            "G Loss: tf.Tensor(3.0660307, shape=(), dtype=float32)\n",
            "D Loss: tf.Tensor(0.11480415, shape=(), dtype=float32)\n",
            "G Loss: tf.Tensor(3.0828488, shape=(), dtype=float32)\n",
            "D Loss: tf.Tensor(0.109995455, shape=(), dtype=float32)\n",
            "G Loss: tf.Tensor(3.0448675, shape=(), dtype=float32)\n",
            "D Loss: tf.Tensor(0.097721264, shape=(), dtype=float32)\n",
            "G Loss: tf.Tensor(3.0251813, shape=(), dtype=float32)\n",
            "D Loss: tf.Tensor(0.095010534, shape=(), dtype=float32)\n",
            "G Loss: tf.Tensor(2.987021, shape=(), dtype=float32)\n",
            "D Loss: tf.Tensor(0.08937329, shape=(), dtype=float32)\n",
            "G Loss: tf.Tensor(2.9662867, shape=(), dtype=float32)\n",
            "D Loss: tf.Tensor(0.08577062, shape=(), dtype=float32)\n",
            "G Loss: tf.Tensor(3.0096378, shape=(), dtype=float32)\n",
            "D Loss: tf.Tensor(0.09294885, shape=(), dtype=float32)\n",
            "G Loss: tf.Tensor(2.941161, shape=(), dtype=float32)\n",
            "D Loss: tf.Tensor(0.087350294, shape=(), dtype=float32)\n",
            "G Loss: tf.Tensor(2.9470975, shape=(), dtype=float32)\n",
            "D Loss: tf.Tensor(0.09655209, shape=(), dtype=float32)\n",
            "G Loss: tf.Tensor(2.9456868, shape=(), dtype=float32)\n",
            "D Loss: tf.Tensor(0.08665909, shape=(), dtype=float32)\n",
            "G Loss: tf.Tensor(2.944158, shape=(), dtype=float32)\n",
            "D Loss: tf.Tensor(0.10491407, shape=(), dtype=float32)\n",
            "G Loss: tf.Tensor(2.9212415, shape=(), dtype=float32)\n",
            "D Loss: tf.Tensor(0.09807483, shape=(), dtype=float32)\n",
            "G Loss: tf.Tensor(2.8677092, shape=(), dtype=float32)\n",
            "D Loss: tf.Tensor(0.09654753, shape=(), dtype=float32)\n",
            "G Loss: tf.Tensor(2.898359, shape=(), dtype=float32)\n",
            "D Loss: tf.Tensor(0.09788689, shape=(), dtype=float32)\n",
            "G Loss: tf.Tensor(2.846837, shape=(), dtype=float32)\n",
            "D Loss: tf.Tensor(0.10803279, shape=(), dtype=float32)\n",
            "G Loss: tf.Tensor(2.778969, shape=(), dtype=float32)\n",
            "D Loss: tf.Tensor(0.12191409, shape=(), dtype=float32)\n",
            "G Loss: tf.Tensor(2.7403781, shape=(), dtype=float32)\n",
            "D Loss: tf.Tensor(0.12472244, shape=(), dtype=float32)\n",
            "G Loss: tf.Tensor(2.621971, shape=(), dtype=float32)\n",
            "D Loss: tf.Tensor(0.1450473, shape=(), dtype=float32)\n",
            "G Loss: tf.Tensor(2.5391457, shape=(), dtype=float32)\n",
            "D Loss: tf.Tensor(0.13040993, shape=(), dtype=float32)\n",
            "G Loss: tf.Tensor(2.488265, shape=(), dtype=float32)\n",
            "D Loss: tf.Tensor(0.1468481, shape=(), dtype=float32)\n",
            "G Loss: tf.Tensor(2.4092042, shape=(), dtype=float32)\n",
            "D Loss: tf.Tensor(0.16153906, shape=(), dtype=float32)\n",
            "G Loss: tf.Tensor(2.3980386, shape=(), dtype=float32)\n",
            "D Loss: tf.Tensor(0.1610592, shape=(), dtype=float32)\n",
            "G Loss: tf.Tensor(2.4264116, shape=(), dtype=float32)\n",
            "D Loss: tf.Tensor(0.16612296, shape=(), dtype=float32)\n",
            "G Loss: tf.Tensor(2.4580035, shape=(), dtype=float32)\n",
            "D Loss: tf.Tensor(0.1702992, shape=(), dtype=float32)\n",
            "G Loss: tf.Tensor(2.5034423, shape=(), dtype=float32)\n",
            "D Loss: tf.Tensor(0.19466296, shape=(), dtype=float32)\n",
            "G Loss: tf.Tensor(2.5450232, shape=(), dtype=float32)\n",
            "D Loss: tf.Tensor(0.15603039, shape=(), dtype=float32)\n",
            "G Loss: tf.Tensor(2.534883, shape=(), dtype=float32)\n",
            "D Loss: tf.Tensor(0.16931283, shape=(), dtype=float32)\n",
            "G Loss: tf.Tensor(2.5614517, shape=(), dtype=float32)\n",
            "D Loss: tf.Tensor(0.17069525, shape=(), dtype=float32)\n",
            "G Loss: tf.Tensor(2.5834637, shape=(), dtype=float32)\n",
            "D Loss: tf.Tensor(0.18416959, shape=(), dtype=float32)\n",
            "G Loss: tf.Tensor(2.5630245, shape=(), dtype=float32)\n",
            "D Loss: tf.Tensor(0.1857834, shape=(), dtype=float32)\n",
            "G Loss: tf.Tensor(2.480131, shape=(), dtype=float32)\n",
            "D Loss: tf.Tensor(0.21316226, shape=(), dtype=float32)\n",
            "G Loss: tf.Tensor(2.4484332, shape=(), dtype=float32)\n",
            "D Loss: tf.Tensor(0.20389852, shape=(), dtype=float32)\n",
            "G Loss: tf.Tensor(2.3530552, shape=(), dtype=float32)\n",
            "D Loss: tf.Tensor(0.21075067, shape=(), dtype=float32)\n",
            "G Loss: tf.Tensor(2.2134848, shape=(), dtype=float32)\n",
            "D Loss: tf.Tensor(0.22123992, shape=(), dtype=float32)\n",
            "G Loss: tf.Tensor(2.1080627, shape=(), dtype=float32)\n",
            "D Loss: tf.Tensor(0.24233872, shape=(), dtype=float32)\n",
            "G Loss: tf.Tensor(1.9465139, shape=(), dtype=float32)\n",
            "D Loss: tf.Tensor(0.26232308, shape=(), dtype=float32)\n",
            "G Loss: tf.Tensor(1.8860244, shape=(), dtype=float32)\n",
            "D Loss: tf.Tensor(0.27355534, shape=(), dtype=float32)\n",
            "G Loss: tf.Tensor(1.8088102, shape=(), dtype=float32)\n",
            "D Loss: tf.Tensor(0.32060504, shape=(), dtype=float32)\n",
            "G Loss: tf.Tensor(1.7254016, shape=(), dtype=float32)\n",
            "D Loss: tf.Tensor(0.33015388, shape=(), dtype=float32)\n",
            "G Loss: tf.Tensor(1.6428983, shape=(), dtype=float32)\n",
            "D Loss: tf.Tensor(0.37731594, shape=(), dtype=float32)\n",
            "G Loss: tf.Tensor(1.6804013, shape=(), dtype=float32)\n",
            "D Loss: tf.Tensor(0.37143877, shape=(), dtype=float32)\n"
          ],
          "name": "stdout"
        },
        {
          "output_type": "error",
          "ename": "KeyboardInterrupt",
          "evalue": "ignored",
          "traceback": [
            "\u001b[0;31m---------------------------------------------------------------------------\u001b[0m",
            "\u001b[0;31mKeyboardInterrupt\u001b[0m                         Traceback (most recent call last)",
            "\u001b[0;32m<ipython-input-31-d152560ca122>\u001b[0m in \u001b[0;36m<module>\u001b[0;34m()\u001b[0m\n\u001b[0;32m----> 1\u001b[0;31m \u001b[0mtrain\u001b[0m\u001b[0;34m(\u001b[0m\u001b[0mtrain_dataset\u001b[0m\u001b[0;34m,\u001b[0m \u001b[0mEPOCHS\u001b[0m\u001b[0;34m)\u001b[0m\u001b[0;34m\u001b[0m\u001b[0;34m\u001b[0m\u001b[0m\n\u001b[0m",
            "\u001b[0;32m<ipython-input-28-802af7bf198a>\u001b[0m in \u001b[0;36mtrain\u001b[0;34m(dataset, epochs)\u001b[0m\n\u001b[1;32m      4\u001b[0m \u001b[0;34m\u001b[0m\u001b[0m\n\u001b[1;32m      5\u001b[0m     \u001b[0;32mfor\u001b[0m \u001b[0mimage_batch\u001b[0m \u001b[0;32min\u001b[0m \u001b[0mdataset\u001b[0m\u001b[0;34m:\u001b[0m\u001b[0;34m\u001b[0m\u001b[0;34m\u001b[0m\u001b[0m\n\u001b[0;32m----> 6\u001b[0;31m       \u001b[0mtrain_step\u001b[0m\u001b[0;34m(\u001b[0m\u001b[0mimage_batch\u001b[0m\u001b[0;34m)\u001b[0m\u001b[0;34m\u001b[0m\u001b[0;34m\u001b[0m\u001b[0m\n\u001b[0m\u001b[1;32m      7\u001b[0m \u001b[0;34m\u001b[0m\u001b[0m\n\u001b[1;32m      8\u001b[0m     \u001b[0;31m# Produce images for the GIF as we go\u001b[0m\u001b[0;34m\u001b[0m\u001b[0;34m\u001b[0m\u001b[0;34m\u001b[0m\u001b[0m\n",
            "\u001b[0;32m/tensorflow-2.1.0/python3.6/tensorflow_core/python/eager/def_function.py\u001b[0m in \u001b[0;36m__call__\u001b[0;34m(self, *args, **kwds)\u001b[0m\n\u001b[1;32m    553\u001b[0m     \u001b[0mcontext\u001b[0m\u001b[0;34m.\u001b[0m\u001b[0mensure_initialized\u001b[0m\u001b[0;34m(\u001b[0m\u001b[0;34m)\u001b[0m\u001b[0;34m\u001b[0m\u001b[0;34m\u001b[0m\u001b[0m\n\u001b[1;32m    554\u001b[0m     \u001b[0;32mif\u001b[0m \u001b[0mRUN_FUNCTIONS_EAGERLY\u001b[0m\u001b[0;34m:\u001b[0m\u001b[0;34m\u001b[0m\u001b[0;34m\u001b[0m\u001b[0m\n\u001b[0;32m--> 555\u001b[0;31m       \u001b[0;32mreturn\u001b[0m \u001b[0mself\u001b[0m\u001b[0;34m.\u001b[0m\u001b[0m_python_function\u001b[0m\u001b[0;34m(\u001b[0m\u001b[0;34m*\u001b[0m\u001b[0margs\u001b[0m\u001b[0;34m,\u001b[0m \u001b[0;34m**\u001b[0m\u001b[0mkwds\u001b[0m\u001b[0;34m)\u001b[0m\u001b[0;34m\u001b[0m\u001b[0;34m\u001b[0m\u001b[0m\n\u001b[0m\u001b[1;32m    556\u001b[0m \u001b[0;34m\u001b[0m\u001b[0m\n\u001b[1;32m    557\u001b[0m     \u001b[0mtracing_count\u001b[0m \u001b[0;34m=\u001b[0m \u001b[0mself\u001b[0m\u001b[0;34m.\u001b[0m\u001b[0m_get_tracing_count\u001b[0m\u001b[0;34m(\u001b[0m\u001b[0;34m)\u001b[0m\u001b[0;34m\u001b[0m\u001b[0;34m\u001b[0m\u001b[0m\n",
            "\u001b[0;32m<ipython-input-27-444c95b788a9>\u001b[0m in \u001b[0;36mtrain_step\u001b[0;34m(images)\u001b[0m\n\u001b[1;32m     15\u001b[0m     \u001b[0mprint\u001b[0m\u001b[0;34m(\u001b[0m\u001b[0;34m'D Loss:'\u001b[0m\u001b[0;34m,\u001b[0m \u001b[0mdisc_loss\u001b[0m\u001b[0;34m)\u001b[0m\u001b[0;34m\u001b[0m\u001b[0;34m\u001b[0m\u001b[0m\n\u001b[1;32m     16\u001b[0m     \u001b[0mgradients_of_generator\u001b[0m \u001b[0;34m=\u001b[0m \u001b[0mgen_tape\u001b[0m\u001b[0;34m.\u001b[0m\u001b[0mgradient\u001b[0m\u001b[0;34m(\u001b[0m\u001b[0mgen_loss\u001b[0m\u001b[0;34m,\u001b[0m \u001b[0mgenerator\u001b[0m\u001b[0;34m.\u001b[0m\u001b[0mtrainable_variables\u001b[0m\u001b[0;34m)\u001b[0m\u001b[0;34m\u001b[0m\u001b[0;34m\u001b[0m\u001b[0m\n\u001b[0;32m---> 17\u001b[0;31m     \u001b[0mgradients_of_discriminator\u001b[0m \u001b[0;34m=\u001b[0m \u001b[0mdisc_tape\u001b[0m\u001b[0;34m.\u001b[0m\u001b[0mgradient\u001b[0m\u001b[0;34m(\u001b[0m\u001b[0mdisc_loss\u001b[0m\u001b[0;34m,\u001b[0m \u001b[0mdiscriminator\u001b[0m\u001b[0;34m.\u001b[0m\u001b[0mtrainable_variables\u001b[0m\u001b[0;34m)\u001b[0m\u001b[0;34m\u001b[0m\u001b[0;34m\u001b[0m\u001b[0m\n\u001b[0m\u001b[1;32m     18\u001b[0m \u001b[0;34m\u001b[0m\u001b[0m\n\u001b[1;32m     19\u001b[0m \u001b[0;34m\u001b[0m\u001b[0m\n",
            "\u001b[0;32m/tensorflow-2.1.0/python3.6/tensorflow_core/python/eager/backprop.py\u001b[0m in \u001b[0;36mgradient\u001b[0;34m(self, target, sources, output_gradients, unconnected_gradients)\u001b[0m\n\u001b[1;32m   1027\u001b[0m         \u001b[0moutput_gradients\u001b[0m\u001b[0;34m=\u001b[0m\u001b[0moutput_gradients\u001b[0m\u001b[0;34m,\u001b[0m\u001b[0;34m\u001b[0m\u001b[0;34m\u001b[0m\u001b[0m\n\u001b[1;32m   1028\u001b[0m         \u001b[0msources_raw\u001b[0m\u001b[0;34m=\u001b[0m\u001b[0mflat_sources_raw\u001b[0m\u001b[0;34m,\u001b[0m\u001b[0;34m\u001b[0m\u001b[0;34m\u001b[0m\u001b[0m\n\u001b[0;32m-> 1029\u001b[0;31m         unconnected_gradients=unconnected_gradients)\n\u001b[0m\u001b[1;32m   1030\u001b[0m \u001b[0;34m\u001b[0m\u001b[0m\n\u001b[1;32m   1031\u001b[0m     \u001b[0;32mif\u001b[0m \u001b[0;32mnot\u001b[0m \u001b[0mself\u001b[0m\u001b[0;34m.\u001b[0m\u001b[0m_persistent\u001b[0m\u001b[0;34m:\u001b[0m\u001b[0;34m\u001b[0m\u001b[0;34m\u001b[0m\u001b[0m\n",
            "\u001b[0;32m/tensorflow-2.1.0/python3.6/tensorflow_core/python/eager/imperative_grad.py\u001b[0m in \u001b[0;36mimperative_grad\u001b[0;34m(tape, target, sources, output_gradients, sources_raw, unconnected_gradients)\u001b[0m\n\u001b[1;32m     75\u001b[0m       \u001b[0moutput_gradients\u001b[0m\u001b[0;34m,\u001b[0m\u001b[0;34m\u001b[0m\u001b[0;34m\u001b[0m\u001b[0m\n\u001b[1;32m     76\u001b[0m       \u001b[0msources_raw\u001b[0m\u001b[0;34m,\u001b[0m\u001b[0;34m\u001b[0m\u001b[0;34m\u001b[0m\u001b[0m\n\u001b[0;32m---> 77\u001b[0;31m       compat.as_str(unconnected_gradients.value))\n\u001b[0m",
            "\u001b[0;32m/tensorflow-2.1.0/python3.6/tensorflow_core/python/eager/backprop.py\u001b[0m in \u001b[0;36m_gradient_function\u001b[0;34m(op_name, attr_tuple, num_inputs, inputs, outputs, out_grads, skip_input_indices)\u001b[0m\n\u001b[1;32m    139\u001b[0m     \u001b[0;32mreturn\u001b[0m \u001b[0;34m[\u001b[0m\u001b[0;32mNone\u001b[0m\u001b[0;34m]\u001b[0m \u001b[0;34m*\u001b[0m \u001b[0mnum_inputs\u001b[0m\u001b[0;34m\u001b[0m\u001b[0;34m\u001b[0m\u001b[0m\n\u001b[1;32m    140\u001b[0m \u001b[0;34m\u001b[0m\u001b[0m\n\u001b[0;32m--> 141\u001b[0;31m   \u001b[0;32mreturn\u001b[0m \u001b[0mgrad_fn\u001b[0m\u001b[0;34m(\u001b[0m\u001b[0mmock_op\u001b[0m\u001b[0;34m,\u001b[0m \u001b[0;34m*\u001b[0m\u001b[0mout_grads\u001b[0m\u001b[0;34m)\u001b[0m\u001b[0;34m\u001b[0m\u001b[0;34m\u001b[0m\u001b[0m\n\u001b[0m\u001b[1;32m    142\u001b[0m \u001b[0;34m\u001b[0m\u001b[0m\n\u001b[1;32m    143\u001b[0m \u001b[0;34m\u001b[0m\u001b[0m\n",
            "\u001b[0;32m/tensorflow-2.1.0/python3.6/tensorflow_core/python/ops/nn_grad.py\u001b[0m in \u001b[0;36m_Conv2DGrad\u001b[0;34m(op, grad)\u001b[0m\n\u001b[1;32m    604\u001b[0m           \u001b[0mexplicit_paddings\u001b[0m\u001b[0;34m=\u001b[0m\u001b[0mexplicit_paddings\u001b[0m\u001b[0;34m,\u001b[0m\u001b[0;34m\u001b[0m\u001b[0;34m\u001b[0m\u001b[0m\n\u001b[1;32m    605\u001b[0m           \u001b[0muse_cudnn_on_gpu\u001b[0m\u001b[0;34m=\u001b[0m\u001b[0muse_cudnn_on_gpu\u001b[0m\u001b[0;34m,\u001b[0m\u001b[0;34m\u001b[0m\u001b[0;34m\u001b[0m\u001b[0m\n\u001b[0;32m--> 606\u001b[0;31m           data_format=data_format)\n\u001b[0m\u001b[1;32m    607\u001b[0m   ]\n\u001b[1;32m    608\u001b[0m \u001b[0;34m\u001b[0m\u001b[0m\n",
            "\u001b[0;32m/tensorflow-2.1.0/python3.6/tensorflow_core/python/ops/gen_nn_ops.py\u001b[0m in \u001b[0;36mconv2d_backprop_filter\u001b[0;34m(input, filter_sizes, out_backprop, strides, padding, use_cudnn_on_gpu, explicit_paddings, data_format, dilations, name)\u001b[0m\n\u001b[1;32m   1079\u001b[0m         \u001b[0mstrides\u001b[0m\u001b[0;34m,\u001b[0m \u001b[0;34m\"use_cudnn_on_gpu\"\u001b[0m\u001b[0;34m,\u001b[0m \u001b[0muse_cudnn_on_gpu\u001b[0m\u001b[0;34m,\u001b[0m \u001b[0;34m\"padding\"\u001b[0m\u001b[0;34m,\u001b[0m \u001b[0mpadding\u001b[0m\u001b[0;34m,\u001b[0m\u001b[0;34m\u001b[0m\u001b[0;34m\u001b[0m\u001b[0m\n\u001b[1;32m   1080\u001b[0m         \u001b[0;34m\"explicit_paddings\"\u001b[0m\u001b[0;34m,\u001b[0m \u001b[0mexplicit_paddings\u001b[0m\u001b[0;34m,\u001b[0m \u001b[0;34m\"data_format\"\u001b[0m\u001b[0;34m,\u001b[0m \u001b[0mdata_format\u001b[0m\u001b[0;34m,\u001b[0m\u001b[0;34m\u001b[0m\u001b[0;34m\u001b[0m\u001b[0m\n\u001b[0;32m-> 1081\u001b[0;31m         \"dilations\", dilations)\n\u001b[0m\u001b[1;32m   1082\u001b[0m       \u001b[0;32mreturn\u001b[0m \u001b[0m_result\u001b[0m\u001b[0;34m\u001b[0m\u001b[0;34m\u001b[0m\u001b[0m\n\u001b[1;32m   1083\u001b[0m     \u001b[0;32mexcept\u001b[0m \u001b[0m_core\u001b[0m\u001b[0;34m.\u001b[0m\u001b[0m_FallbackException\u001b[0m\u001b[0;34m:\u001b[0m\u001b[0;34m\u001b[0m\u001b[0;34m\u001b[0m\u001b[0m\n",
            "\u001b[0;31mKeyboardInterrupt\u001b[0m: "
          ]
        }
      ]
    },
    {
      "cell_type": "markdown",
      "metadata": {
        "id": "O2VQMbds6ozb",
        "colab_type": "text"
      },
      "source": [
        "## Create Gif"
      ]
    },
    {
      "cell_type": "code",
      "metadata": {
        "id": "AbzogytW9oZ7",
        "colab_type": "code",
        "colab": {}
      },
      "source": [
        "# Display a single image using the epoch number\n",
        "def display_image(epoch_no):\n",
        "  return PIL.Image.open('image_at_epoch_{:04d}.png'.format(epoch_no))"
      ],
      "execution_count": 0,
      "outputs": []
    },
    {
      "cell_type": "code",
      "metadata": {
        "id": "4I4rPn8mmc9m",
        "colab_type": "code",
        "colab": {
          "base_uri": "https://localhost:8080/",
          "height": 305
        },
        "outputId": "2ea110d5-56f6-4181-80ec-17f9d565b9d6"
      },
      "source": [
        "display_image(EPOCHS)"
      ],
      "execution_count": 82,
      "outputs": [
        {
          "output_type": "execute_result",
          "data": {
            "image/png": "[encoded data removed]",
            "text/plain": [
              "<PIL.PngImagePlugin.PngImageFile image mode=RGBA size=288x288 at 0x7F9A75C90358>"
            ]
          },
          "metadata": {
            "tags": []
          },
          "execution_count": 82
        }
      ]
    },
    {
      "cell_type": "code",
      "metadata": {
        "id": "-suM-c8NmiPe",
        "colab_type": "code",
        "colab": {}
      },
      "source": [
        "anim_file = 'dcgan_dropout.gif'\n",
        "\n",
        "with imageio.get_writer(anim_file, mode='I') as writer:\n",
        "  filenames = glob.glob('image*.png')\n",
        "  filenames = sorted(filenames)\n",
        "  last = -1\n",
        "  for i,filename in enumerate(filenames):\n",
        "    frame = 2*(i**0.5)\n",
        "    if round(frame) > round(last):\n",
        "      last = frame\n",
        "    else:\n",
        "      continue\n",
        "    image = imageio.imread(filename)\n",
        "    writer.append_data(image)\n",
        "  image = imageio.imread(filename)\n",
        "  writer.append_data(image)\n",
        "\n",
        "import IPython\n",
        "if IPython.version_info > (6, 2, 0, ''):\n",
        "  display.Image(filename=anim_file)"
      ],
      "execution_count": 0,
      "outputs": []
    },
    {
      "cell_type": "code",
      "metadata": {
        "id": "LzlhlU4Dm2KD",
        "colab_type": "code",
        "colab": {}
      },
      "source": [
        "try:\n",
        "  from google.colab import files\n",
        "except ImportError:\n",
        "   pass\n",
        "else:\n",
        "  files.download(anim_file)"
      ],
      "execution_count": 0,
      "outputs": []
    }
  ]
}